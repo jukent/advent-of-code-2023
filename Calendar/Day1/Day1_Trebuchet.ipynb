{
 "cells": [
  {
   "cell_type": "markdown",
   "metadata": {},
   "source": [
    "# Day 1: Trebuchet?!\n",
    "\n",
    "## Part 1\n",
    "\n",
    "Something is wrong with global snow production, and you've been selected to take a look. The Elves have even given you a map; on it, they've used stars to mark the top fifty locations that are likely to be having problems.\n",
    "\n",
    "You've been doing this long enough to know that to restore snow operations, you need to check all **fifty stars** by December 25th.\n",
    "\n",
    "Collect stars by solving puzzles. Two puzzles will be made available on each day in the Advent calendar; the second puzzle is unlocked when you complete the first. Each puzzle grants one star. Good luck!\n",
    "\n",
    "You try to ask why they can't just use a weather machine (\"not powerful enough\") and where they're even sending you (\"the sky\") and why your map looks mostly blank (\"you sure ask a lot of questions\") and hang on did you just say the sky (\"of course, where do you think snow comes from\") when you realize that the Elves are already loading you into a trebuchet (\"please hold still, we need to strap you in\").\n",
    "\n",
    "As they're making the final adjustments, they discover that their calibration document (your puzzle input) has been amended by a very young Elf who was apparently just excited to show off her art skills. Consequently, the Elves are having trouble reading the values on the document.\n",
    "\n",
    "The newly-improved calibration document consists of lines of text; each line originally contained a specific calibration value that the Elves now need to recover. On each line, the calibration value can be found by combining the first digit and the last digit (in that order) to form a single two-digit number.\n",
    "\n",
    "For example:\n",
    "```\n",
    "1abc2\n",
    "pqr3stu8vwx\n",
    "a1b2c3d4e5f\n",
    "treb7uchet\n",
    "```\n",
    "\n",
    "In this example, the calibration values of these four lines are 12, 38, 15, and 77. Adding these together produces 142.\n",
    "\n",
    "Consider your entire calibration document. What is the sum of all of the calibration values?"
   ]
  },
  {
   "cell_type": "code",
   "execution_count": null,
   "metadata": {},
   "outputs": [],
   "source": [
    "filename = 'calibration_input.txt'\n",
    "\n",
    "with open(filename, 'r') as datafile:\n",
    "    data = datafile.read().split()\n",
    "data"
   ]
  },
  {
   "cell_type": "code",
   "execution_count": null,
   "metadata": {},
   "outputs": [],
   "source": [
    "test_str = 'four9one'\n",
    "digits = [int(i) for i in test_str if i.isdigit()]\n",
    "digits"
   ]
  },
  {
   "cell_type": "code",
   "execution_count": null,
   "metadata": {},
   "outputs": [],
   "source": [
    "calibration_values = []\n",
    "for line in data:\n",
    "    digits = [int(i) for i in line if i.isdigit()]\n",
    "    first = digits[0]\n",
    "    last = digits[-1]\n",
    "    value = int(str(first)+str(last))\n",
    "    calibration_values.append(value)\n",
    "\n",
    "calibration_values"
   ]
  },
  {
   "cell_type": "code",
   "execution_count": null,
   "metadata": {},
   "outputs": [],
   "source": [
    "calibration_sum = sum(calibration_values)\n",
    "calibration_sum"
   ]
  },
  {
   "cell_type": "markdown",
   "metadata": {},
   "source": [
    "## Part 2\n",
    "\n",
    "Your calculation isn't quite right. It looks like some of the digits are actually spelled out with letters: one, two, three, four, five, six, seven, eight, and nine also count as valid \"digits\".\n",
    "\n",
    "Equipped with this new information, you now need to find the real first and last digit on each line. For example:\n",
    "\n",
    "```\n",
    "two1nine\n",
    "eightwothree\n",
    "abcone2threexyz\n",
    "xtwone3four\n",
    "4nineeightseven2\n",
    "zoneight234\n",
    "7pqrstsixteen\n",
    "```\n",
    "\n",
    "In this example, the calibration values are 29, 83, 13, 24, 42, 14, and 76. Adding these together produces 281.\n",
    "\n",
    "What is the sum of all of the calibration values?"
   ]
  },
  {
   "cell_type": "code",
   "execution_count": null,
   "metadata": {},
   "outputs": [],
   "source": [
    "# Padding string replacement so that \n",
    "# 'eightwothree' -> '823' instead of 'eigh23' AND 'threeeightwo' -> '382' instead of '38wo'\n",
    "# Had tried sorting with `for num in sorted(digits_str, key=lambda x: line.find(x)):`\n",
    "# which caught the first case, but not the second\n",
    "digits_dict = {'one' : 'o1e',\n",
    "              'two' : 't2o',\n",
    "              'three' : 't3e',\n",
    "              'four' : 'f4r',\n",
    "              'five' : 'f5e',\n",
    "              'six' : 's6x',\n",
    "              'seven' :'s7n',\n",
    "              'eight' : 'e8t',\n",
    "              'nine' : 'n9e'}\n",
    "\n",
    "digits_dict"
   ]
  },
  {
   "cell_type": "code",
   "execution_count": null,
   "metadata": {},
   "outputs": [],
   "source": [
    "test_list = [\n",
    "        'two1nine',\n",
    "        'eightwothree',\n",
    "        'abcone2threexyz',\n",
    "        'xtwone3four',\n",
    "        '4nineeightseven2',\n",
    "        'zoneight234',\n",
    "        '7pqrstsixteen']\n",
    "\n",
    "test_calibration_values = []\n",
    "for line in test_list:\n",
    "    for num in digits_dict.keys():\n",
    "        line = line.replace(num, digits_dict[num])\n",
    "    digits = [int(i) for i in line if i.isdigit()]\n",
    "    first = digits[0]\n",
    "    last = digits[-1]\n",
    "    value = int(str(first)+str(last))\n",
    "    test_calibration_values.append(value)\n",
    "\n",
    "test_calibration_values"
   ]
  },
  {
   "cell_type": "code",
   "execution_count": null,
   "metadata": {},
   "outputs": [],
   "source": [
    "calibration_values_2 = []\n",
    "for line in data:\n",
    "    for num in digits_dict.keys():\n",
    "        line = line.replace(num, digits_dict[num])\n",
    "    digits = [int(i) for i in line if i.isdigit()]\n",
    "    first = digits[0]\n",
    "    last = digits[-1]\n",
    "    value = int(str(first)+str(last))\n",
    "    calibration_values_2.append(value)\n",
    "\n",
    "calibration_values_2"
   ]
  },
  {
   "cell_type": "code",
   "execution_count": null,
   "metadata": {},
   "outputs": [],
   "source": [
    "sum(calibration_values_2)"
   ]
  }
 ],
 "metadata": {
  "kernelspec": {
   "display_name": "geocat_sandbox",
   "language": "python",
   "name": "python3"
  },
  "language_info": {
   "codemirror_mode": {
    "name": "ipython",
    "version": 3
   },
   "file_extension": ".py",
   "mimetype": "text/x-python",
   "name": "python",
   "nbconvert_exporter": "python",
   "pygments_lexer": "ipython3",
   "version": "3.10.10"
  },
  "orig_nbformat": 4
 },
 "nbformat": 4,
 "nbformat_minor": 2
}
